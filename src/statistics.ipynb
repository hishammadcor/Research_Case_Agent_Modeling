{
 "cells": [
  {
   "cell_type": "markdown",
   "metadata": {},
   "source": [
    "# Statistics"
   ]
  },
  {
   "cell_type": "code",
   "execution_count": 1,
   "metadata": {},
   "outputs": [],
   "source": [
    "import pandas as pd\n",
    "import os\n"
   ]
  },
  {
   "cell_type": "code",
   "execution_count": 2,
   "metadata": {},
   "outputs": [
    {
     "name": "stderr",
     "output_type": "stream",
     "text": [
      "C:\\Users\\Haider\\AppData\\Local\\Temp\\ipykernel_15528\\2245792235.py:3: DtypeWarning: Columns (0,1,2,3,4,5,6,7,8,9,10,11,12,13,14,15,16,17,18,19,20,21,22,23,24,25,26,27,28,29,30,31,32,33,34,35,36,37,38,39,40,41,42,43,44,45,46,47,48,49,50,51,52,53,54,55,56,57,58,59,60,61,62,63,64,65,66,67,68,69,70,71,72,73,74,75,76,77,78,79,80,81,82,83,84,85,86,87,88,89,90,91,92,93,94,95,96,97,98,99,100,101,102,103,104,105,106,107,108,109,110,111,112,113,114,115,116,117,118,119,120,121,122,123,124,125,126,127,128,129,130,131) have mixed types. Specify dtype option on import or set low_memory=False.\n",
      "  data = pd.read_csv(file_path)\n"
     ]
    }
   ],
   "source": [
    "\n",
    "# Load the CSV file\n",
    "file_path = r\"C:\\Users\\Haider\\Downloads\\preprocess\\1combined_preprocess\\9_processed_data_for_personas_Format_1.csv\"  # Replace with your file path\n",
    "data = pd.read_csv(file_path)\n"
   ]
  },
  {
   "cell_type": "code",
   "execution_count": 3,
   "metadata": {},
   "outputs": [
    {
     "name": "stdout",
     "output_type": "stream",
     "text": [
      "F1A1_1    3.175095\n",
      "F1A2_1    4.330558\n",
      "F1A3_1    4.578953\n",
      "F1A4_1    4.235561\n",
      "F1A5_1    3.044156\n",
      "            ...   \n",
      "F7h       2.984186\n",
      "F7i       2.979603\n",
      "F7lA1     3.967223\n",
      "F7mA1     1.826666\n",
      "F7n       5.361115\n",
      "Length: 132, dtype: float64\n",
      "F1A1_1    1.655559\n",
      "F1A2_1    1.794893\n",
      "F1A3_1    1.813466\n",
      "F1A4_1    1.888608\n",
      "F1A5_1    1.511924\n",
      "            ...   \n",
      "F7h       2.343277\n",
      "F7i       1.971851\n",
      "F7lA1     1.276572\n",
      "F7mA1     0.980766\n",
      "F7n       3.456087\n",
      "Length: 132, dtype: float64\n"
     ]
    }
   ],
   "source": [
    "data_wocol=data.iloc[3:,]\n",
    "\n",
    "# Convert all columns to numeric, coercing errors (non-convertible strings will become NaN)\n",
    "data_numeric = data_wocol.apply(pd.to_numeric, errors='coerce')\n",
    "\n",
    "# Calculate the mean for each numeric column\n",
    "column_means = data_numeric.mean()\n",
    "\n",
    "# Print the results\n",
    "print(column_means)\n",
    "\n",
    "\n",
    "# Calculate the sd for each numeric column\n",
    "column_std = data_numeric.std()\n",
    "\n",
    "# Print the results\n",
    "print(column_std)\n"
   ]
  },
  {
   "cell_type": "code",
   "execution_count": 6,
   "metadata": {},
   "outputs": [
    {
     "name": "stdout",
     "output_type": "stream",
     "text": [
      "Output saved to C:/Users/Haider\\Desktop/Research_Case_Agent_Modeling/data/4_stats/stats.csv\n"
     ]
    }
   ],
   "source": [
    "# Create a new DataFrame for saving\n",
    "output_df = pd.DataFrame([column_means, column_std], index=['Mean', 'Std'])\n",
    "\n",
    "# Specify output file path\n",
    "output_file_path = r\"C:/Users/Haider\\Desktop/Research_Case_Agent_Modeling/data/4_stats/stats.csv\"  # Replace with your desired output path\n",
    "\n",
    "# Ensure the directory exists\n",
    "os.makedirs(os.path.dirname(output_file_path), exist_ok=True)\n",
    "\n",
    "# Save to a new CSV file\n",
    "output_df.to_csv(output_file_path)\n",
    "\n",
    "print(f\"Output saved to {output_file_path}\")"
   ]
  },
  {
   "cell_type": "code",
   "execution_count": 5,
   "metadata": {},
   "outputs": [
    {
     "data": {
      "text/html": [
       "<div>\n",
       "<style scoped>\n",
       "    .dataframe tbody tr th:only-of-type {\n",
       "        vertical-align: middle;\n",
       "    }\n",
       "\n",
       "    .dataframe tbody tr th {\n",
       "        vertical-align: top;\n",
       "    }\n",
       "\n",
       "    .dataframe thead th {\n",
       "        text-align: right;\n",
       "    }\n",
       "</style>\n",
       "<table border=\"1\" class=\"dataframe\">\n",
       "  <thead>\n",
       "    <tr style=\"text-align: right;\">\n",
       "      <th></th>\n",
       "      <th>F1A1_1</th>\n",
       "      <th>F1A2_1</th>\n",
       "      <th>F1A3_1</th>\n",
       "      <th>F1A4_1</th>\n",
       "      <th>F1A5_1</th>\n",
       "      <th>F1A6_1</th>\n",
       "      <th>F1A7_1</th>\n",
       "      <th>F1A8_1</th>\n",
       "      <th>F1A9_1</th>\n",
       "      <th>F1A10_1</th>\n",
       "      <th>...</th>\n",
       "      <th>F7d</th>\n",
       "      <th>F7e</th>\n",
       "      <th>F7f</th>\n",
       "      <th>einkommen</th>\n",
       "      <th>F7g</th>\n",
       "      <th>F7h</th>\n",
       "      <th>F7i</th>\n",
       "      <th>F7lA1</th>\n",
       "      <th>F7mA1</th>\n",
       "      <th>F7n</th>\n",
       "    </tr>\n",
       "  </thead>\n",
       "  <tbody>\n",
       "    <tr>\n",
       "      <th>Mean</th>\n",
       "      <td>3.175095</td>\n",
       "      <td>4.330558</td>\n",
       "      <td>4.578953</td>\n",
       "      <td>4.235561</td>\n",
       "      <td>3.044156</td>\n",
       "      <td>3.932429</td>\n",
       "      <td>4.576662</td>\n",
       "      <td>4.658594</td>\n",
       "      <td>3.922613</td>\n",
       "      <td>4.983384</td>\n",
       "      <td>...</td>\n",
       "      <td>1.078877</td>\n",
       "      <td>1.176432</td>\n",
       "      <td>1.180176</td>\n",
       "      <td>3.896028</td>\n",
       "      <td>5.507945</td>\n",
       "      <td>2.984186</td>\n",
       "      <td>2.979603</td>\n",
       "      <td>3.967223</td>\n",
       "      <td>1.826666</td>\n",
       "      <td>5.361115</td>\n",
       "    </tr>\n",
       "    <tr>\n",
       "      <th>Std</th>\n",
       "      <td>1.655559</td>\n",
       "      <td>1.794893</td>\n",
       "      <td>1.813466</td>\n",
       "      <td>1.888608</td>\n",
       "      <td>1.511924</td>\n",
       "      <td>1.859410</td>\n",
       "      <td>1.869140</td>\n",
       "      <td>1.867805</td>\n",
       "      <td>1.822076</td>\n",
       "      <td>1.531165</td>\n",
       "      <td>...</td>\n",
       "      <td>0.269552</td>\n",
       "      <td>0.381195</td>\n",
       "      <td>0.384341</td>\n",
       "      <td>1.724713</td>\n",
       "      <td>1.954693</td>\n",
       "      <td>2.343277</td>\n",
       "      <td>1.971851</td>\n",
       "      <td>1.276572</td>\n",
       "      <td>0.980766</td>\n",
       "      <td>3.456087</td>\n",
       "    </tr>\n",
       "  </tbody>\n",
       "</table>\n",
       "<p>2 rows × 132 columns</p>\n",
       "</div>"
      ],
      "text/plain": [
       "        F1A1_1    F1A2_1    F1A3_1    F1A4_1    F1A5_1    F1A6_1    F1A7_1  \\\n",
       "Mean  3.175095  4.330558  4.578953  4.235561  3.044156  3.932429  4.576662   \n",
       "Std   1.655559  1.794893  1.813466  1.888608  1.511924  1.859410  1.869140   \n",
       "\n",
       "        F1A8_1    F1A9_1   F1A10_1  ...       F7d       F7e       F7f  \\\n",
       "Mean  4.658594  3.922613  4.983384  ...  1.078877  1.176432  1.180176   \n",
       "Std   1.867805  1.822076  1.531165  ...  0.269552  0.381195  0.384341   \n",
       "\n",
       "      einkommen       F7g       F7h       F7i     F7lA1     F7mA1       F7n  \n",
       "Mean   3.896028  5.507945  2.984186  2.979603  3.967223  1.826666  5.361115  \n",
       "Std    1.724713  1.954693  2.343277  1.971851  1.276572  0.980766  3.456087  \n",
       "\n",
       "[2 rows x 132 columns]"
      ]
     },
     "execution_count": 5,
     "metadata": {},
     "output_type": "execute_result"
    }
   ],
   "source": [
    "output_df"
   ]
  }
 ],
 "metadata": {
  "kernelspec": {
   "display_name": ".venv",
   "language": "python",
   "name": "python3"
  },
  "language_info": {
   "codemirror_mode": {
    "name": "ipython",
    "version": 3
   },
   "file_extension": ".py",
   "mimetype": "text/x-python",
   "name": "python",
   "nbconvert_exporter": "python",
   "pygments_lexer": "ipython3",
   "version": "3.13.0"
  }
 },
 "nbformat": 4,
 "nbformat_minor": 2
}
